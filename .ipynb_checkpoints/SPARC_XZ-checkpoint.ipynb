{
 "cells": [
  {
   "cell_type": "markdown",
   "metadata": {},
   "source": [
    "# Sparc 3D\n",
    "This notebook show how we can create a 2D(X and Z) model on the for fusion testing. We are able to change all \n",
    "shape and thickness really easily. This model wad created aiming at bringing some heating deposition\n",
    "theoretical measure on SPARC reactor"
   ]
  },
  {
   "cell_type": "markdown",
   "metadata": {},
   "source": [
    "## PreProcessing"
   ]
  },
  {
   "cell_type": "markdown",
   "metadata": {},
   "source": [
    "Make sure you have the correct path to the cross sections folder"
   ]
  },
  {
   "cell_type": "code",
   "execution_count": null,
   "metadata": {},
   "outputs": [],
   "source": [
    "import os\n",
    "os.environ['OPENMC_CROSS_SECTIONS'] = './openmc/scripts/nndc_hdf5/cross_sections.xml'"
   ]
  },
  {
   "cell_type": "markdown",
   "metadata": {},
   "source": [
    "Other imports for measurements, calculations, and plotting"
   ]
  },
  {
   "cell_type": "code",
   "execution_count": null,
   "metadata": {},
   "outputs": [],
   "source": [
    "import matplotlib.pyplot as plt\n",
    "from math import *\n",
    "from openmc import *\n",
    "from numpy import*"
   ]
  },
  {
   "cell_type": "markdown",
   "metadata": {},
   "source": [
    "We define there all thickness and others input for the modelisation"
   ]
  },
  {
   "cell_type": "code",
   "execution_count": null,
   "metadata": {},
   "outputs": [],
   "source": [
    "#####################################\n",
    "#Définition of modelisation settings#\n",
    "#####################################\n",
    "#Thickness of materials \n",
    "e_plasma = 50\n",
    "e_wall1 = 3 \n",
    "e_vessel = 2 \n",
    "e_shield = 10\n",
    "e_wall2 = 1 \n",
    "e_tfcoil = 20 \n",
    "#Target size\n",
    "H_target = 10\n",
    "e_target = 3\n",
    "#Plasma density\n",
    "plasma_density = 0.01 #g/cm3\n",
    "#Set the number of batch and particules/batch\n",
    "N_batch = 1000\n",
    "N_particules = 100000\n",
    "#mesh for plotting : precision of all\n",
    "mesh_size = 1\n",
    "\n",
    "\n",
    "size = int(600/mesh_size)"
   ]
  },
  {
   "cell_type": "markdown",
   "metadata": {},
   "source": [
    "We define there all materials we need, with the real proportion in SPARC"
   ]
  },
  {
   "cell_type": "code",
   "execution_count": null,
   "metadata": {},
   "outputs": [],
   "source": [
    "\n",
    "##################\n",
    "#Set-up materials#\n",
    "##################\n",
    "tungsten=openmc.Material(name=\"Tungsten\")\n",
    "tungsten.add_element(\"W\",1)\n",
    "tungsten.set_density(\"g/cm3\",19.3) \n",
    "\n",
    "ss316=openmc.Material(name=\"ss316\")\n",
    "ss316.add_element(\"Si\",4.998E-03,\"wo\")\n",
    "ss316.add_element(\"Ti\",1.5E-05,\"wo\")\n",
    "ss316.add_element(\"Cr\",1.75E-01,\"wo\")\n",
    "ss316.add_element(\"Cu\",3.0E-03,\"wo\")\n",
    "ss316.add_element(\"Mn\",1.8E-02,\"wo\")\n",
    "ss316.add_element(\"Fe\",2.4814,\"wo\")\n",
    "ss316.add_element(\"Ni\",1.1944E-01,\"wo\")\n",
    "ss316.add_element(\"Mo\",2.5E-02,\"wo\")\n",
    "ss316.add_element(\"C\",0.0002,\"wo\")\n",
    "ss316.set_density(\"g/cm3\",8.0) \n",
    "\n",
    "B_carbide=openmc.Material(name=\"Boron carbide\")\n",
    "B_carbide.add_element(\"B\",0.8)\n",
    "B_carbide.add_element(\"C\",0.2)\n",
    "B_carbide.set_density(\"g/cm3\",2.45)\n",
    "\n",
    "incoloy=openmc.Material(name=\"incoloy 908\")\n",
    "incoloy=openmc.Material(4,\"incoloy\")\n",
    "incoloy.add_element(\"Ni\",48.0)\n",
    "incoloy.add_element(\"Fe\",40.0)\n",
    "incoloy.add_element(\"Cr\",4.0)\n",
    "incoloy.add_element(\"Cb\",3.0)\n",
    "incoloy.add_element(\"Ti\",1.5)\n",
    "incoloy.add_element(\"Mn\",1.0)\n",
    "incoloy.add_element(\"Al\",1.0)\n",
    "incoloy.add_element(\"Co\",0.5)\n",
    "incoloy.add_element(\"Cu\",0.5)\n",
    "incoloy.add_element(\"Si\",0.5)\n",
    "incoloy.add_element(\"C\",0.03)\n",
    "incoloy.add_element(\"P\",0.015)\n",
    "incoloy.add_element(\"B\",0.012)\n",
    "incoloy.add_element(\"S\",0.005)\n",
    "incoloy.set_density(\"g/cm3\",8.0)\n",
    "\n",
    "coil_mat=openmc.Material(5,\"coil\")\n",
    "coil_mat.add_element(\"Cu\",98.8)\n",
    "coil_mat.add_element(\"Zr\",0.20)\n",
    "coil_mat.add_element(\"Cr\",0.9)\n",
    "coil_mat.set_density(\"g/cm3\",8.9)\n",
    "\n",
    "plasma_H=openmc.Material(name=\"plasma\")\n",
    "plasma_H.add_nuclide(\"H2\",0.1)\n",
    "plasma_H.add_nuclide(\"H3\",0.1)\n",
    "plasma_H.set_density(\"g/cm3\",plasma_density)"
   ]
  },
  {
   "cell_type": "markdown",
   "metadata": {},
   "source": [
    "We can now create the file use by openmc"
   ]
  },
  {
   "cell_type": "code",
   "execution_count": null,
   "metadata": {},
   "outputs": [],
   "source": [
    "#export at XML format\n",
    "mats = openmc.Materials([tungsten,ss316,B_carbide,incoloy,coil_mat,plasma_H])\n",
    "isinstance(mats, list)\n",
    "mats.export_to_xml()"
   ]
  },
  {
   "cell_type": "markdown",
   "metadata": {},
   "source": [
    "Now let's move on geometry work. We want to build a 3D model, all will be explain step by step. First, we create all cells for our model."
   ]
  },
  {
   "cell_type": "code",
   "execution_count": null,
   "metadata": {},
   "outputs": [],
   "source": [
    "plasma=openmc.Cell(1,\"Plasma\")\n",
    "wall1=openmc.Cell(2,\"Wall1\")\n",
    "vessel=openmc.Cell(3,\"Vessel\")\n",
    "shield=openmc.Cell(4,\"Shield\")\n",
    "wall2=openmc.Cell(5,\"wall2\")\n",
    "tfcoil=openmc.Cell(6,\"tfcoil\")\n",
    "target=openmc.Cell(7,\"target\")\n",
    "air_in=openmc.Cell(8,\"air_in\")\n",
    "n_phage=openmc.Cell(9,\"n_phage\")"
   ]
  },
  {
   "cell_type": "markdown",
   "metadata": {},
   "source": [
    "We create our borders for the plane"
   ]
  },
  {
   "cell_type": "code",
   "execution_count": null,
   "metadata": {},
   "outputs": [],
   "source": [
    "min_x=openmc.XPlane(x0=-300,boundary_type='reflective')\n",
    "max_x=openmc.XPlane(x0=300,boundary_type='reflective')\n",
    "min_y=openmc.YPlane(y0=-300,boundary_type='reflective')\n",
    "max_y=openmc.YPlane(y0=300,boundary_type='reflective')"
   ]
  },
  {
   "cell_type": "markdown",
   "metadata": {},
   "source": [
    "Then, we have to define all length : for cylinder, planes and borders"
   ]
  },
  {
   "cell_type": "code",
   "execution_count": null,
   "metadata": {},
   "outputs": [],
   "source": [
    "#length\n",
    "R1 = e_plasma\n",
    "R2 = e_plasma+e_wall1\n",
    "R3 = e_plasma+e_wall1+e_vessel\n",
    "R4 = e_plasma+e_wall1+e_vessel+e_shield\n",
    "R5 = e_plasma+e_wall1+e_vessel+e_shield+e_wall2\n",
    "R6 = R5 + e_tfcoil\n",
    "center_circle = R5/2\n"
   ]
  },
  {
   "cell_type": "markdown",
   "metadata": {},
   "source": [
    "Finally we build our shapes and create the regions"
   ]
  },
  {
   "cell_type": "code",
   "execution_count": null,
   "metadata": {},
   "outputs": [],
   "source": [
    "plasma_cylinder = openmc.ZCylinder(x0=0.0, y0=0.0, R=R1)\n",
    "wall1_cylinder = openmc.ZCylinder(x0=0.0, y0=0.0, R=R2)\n",
    "vessel_cylinder = openmc.ZCylinder(x0=0.0, y0=0.0, R=R3)\n",
    "shield_cylinder = openmc.ZCylinder(x0=0.0, y0=0.0, R=R4)\n",
    "wall2_cylinder = openmc.ZCylinder(x0=0.0, y0=0.0, R=R5)\n",
    "\n",
    "R_small_circle_1 = R5-center_circle\n",
    "R_small_circle_2 = R5-center_circle+e_tfcoil\n",
    "R_big_circle_1 = center_circle+R5\n",
    "R_big_circle_2 = center_circle+R5+e_tfcoil\n",
    "\n",
    "circle1_1 = openmc.ZCylinder(x0=-center_circle, y0=R5, R=R_small_circle_1)\n",
    "circle1_2 = openmc.ZCylinder(x0=-center_circle, y0=R5, R=R_small_circle_2)\n",
    "circle1_3 = openmc.ZCylinder(x0=-center_circle, y0=-R5, R=R_small_circle_1)\n",
    "circle1_4 = openmc.ZCylinder(x0=-center_circle, y0=-R5, R=R_small_circle_2)\n",
    "circle2_1 = openmc.ZCylinder(x0=-center_circle, y0=0.0, R=R_big_circle_1)\n",
    "circle2_2 = openmc.ZCylinder(x0=-center_circle, y0=0.0, R=R_big_circle_2)\n",
    "\n",
    "\n",
    "sol_in = openmc.XPlane(x0=-R5)\n",
    "sol_out = openmc.XPlane(x0=-R6)\n",
    "trait_1 = openmc.XPlane(x0=-center_circle)\n",
    "trait_2 = openmc.YPlane(y0=+R5)\n",
    "trait_3 = openmc.YPlane(y0=-R5)\n",
    "trait_target1 = openmc.XPlane(x0=-R5-e_target)\n",
    "trait_target2 = openmc.YPlane(y0=H_target/2)\n",
    "trait_target3 = openmc.YPlane(y0=-H_target/2)\n",
    "\n",
    "zone1 = +circle2_1 & -circle2_2 & +trait_1\n",
    "zone2 = +circle1_1 & -circle1_2 & -trait_1 & +trait_2\n",
    "zone3 = -sol_in & +sol_out & -trait_2 & +trait_3\n",
    "zone4 = +circle1_3 & -circle1_4 & -trait_1 & -trait_3\n",
    "\n",
    "inter_1 = -circle2_1 & +wall2_cylinder & +trait_1\n",
    "inter_2 = +sol_in & +wall2_cylinder & -trait_2 & +trait_3 & -trait_1\n",
    "inter_3 = -circle1_1 & +sol_in & +trait_2 & -trait_1 & +wall2_cylinder\n",
    "inter_4 = -circle1_3 & +sol_in & -trait_3 & -trait_1 & +wall2_cylinder\n",
    "inter = (inter_1 | inter_2 | inter_3 | inter_4) \n",
    "exter = +circle2_2 & +trait_1 | +circle1_2 & +sol_out & -trait_1 & +trait_2 | +circle1_4 & +sol_out & -trait_1 & -trait_3 | -sol_out\n",
    "\n",
    "#Associate region\n",
    "plasma.region = -plasma_cylinder\n",
    "wall1.region = +plasma_cylinder & -wall1_cylinder\n",
    "vessel.region = +wall1_cylinder & -vessel_cylinder\n",
    "shield.region = +vessel_cylinder & -shield_cylinder\n",
    "wall2.region = +shield_cylinder & -wall2_cylinder\n",
    "tfcoil.region = zone1 | zone2 | zone3 | zone4 \n",
    "target.region = +trait_target1 & -trait_target2 & +trait_target3 & -sol_in\n",
    "air_in.region = inter\n",
    "n_phage.region = exter & +min_x & -max_x & +min_y & -max_y\n",
    "\n",
    "#fill cells\n",
    "plasma.fill = plasma_H\n",
    "wall1.fill = tungsten\n",
    "vessel.fill = ss316\n",
    "shield.fill = B_carbide\n",
    "wall2.fill = ss316\n",
    "tfcoil.fill = incoloy\n",
    "target.fill = incoloy\n",
    "#air_in.fill = air\n",
    "n_phage.fill = tungsten\n"
   ]
  },
  {
   "cell_type": "markdown",
   "metadata": {},
   "source": [
    "With the regions completed we can add the regions to our universe and export the XML file"
   ]
  },
  {
   "cell_type": "code",
   "execution_count": null,
   "metadata": {},
   "outputs": [],
   "source": [
    "#Add to the universe\n",
    "universe = openmc.Universe()\n",
    "universe.add_cell(plasma)\n",
    "universe.add_cell(wall1)\n",
    "universe.add_cell(vessel)\n",
    "universe.add_cell(shield)\n",
    "universe.add_cell(wall2)\n",
    "universe.add_cell(tfcoil)\n",
    "universe.add_cell(target)\n",
    "universe.add_cell(air_in)\n",
    "universe.add_cell(n_phage)\n",
    "\n",
    "#export XML file\n",
    "geom = openmc.Geometry(universe)\n",
    "geom.export_to_xml()\n",
    "!cat geometry.xml"
   ]
  },
  {
   "cell_type": "markdown",
   "metadata": {},
   "source": [
    "Before running openmc we must add our simulation settings"
   ]
  },
  {
   "cell_type": "code",
   "execution_count": null,
   "metadata": {},
   "outputs": [],
   "source": [
    "#####################\n",
    "#simulation settings#\n",
    "#####################\n",
    "\n",
    "#Create the source and XML file\n",
    "src = openmc.Source()\n",
    "src.angle = openmc.stats.Isotropic()\n",
    "src.energy = openmc.stats.Discrete([14.1e6], [1.0])\n",
    "settings = openmc.Settings()\n",
    "settings.run_mode = \"fixed source\"\n",
    "\n",
    "\n",
    "settings.source = src\n",
    "settings.batches = N_batch\n",
    "settings.inactive = 0\n",
    "settings.particles = N_particules\n",
    "settings.export_to_xml()\n"
   ]
  },
  {
   "cell_type": "markdown",
   "metadata": {},
   "source": [
    "We will also ensure that the geometry is correct by plotting it"
   ]
  },
  {
   "cell_type": "code",
   "execution_count": null,
   "metadata": {},
   "outputs": [],
   "source": [
    "################\n",
    "#Geometry Plot#\n",
    "###############\n",
    "B = zeros((600,600))\n",
    "for i in range (-300,300,1):\n",
    "    for j in range (-300,300,1):\n",
    "        if (i,j,0) in plasma:\n",
    "            B[j+300][i+300]=1\n",
    "        elif (i,j,0) in wall1:\n",
    "            B[j+300][i+300]=2\n",
    "        elif (i,j,0) in vessel:\n",
    "            B[j+300][i+300]=3\n",
    "        elif (i,j,0) in shield:\n",
    "            B[j+300][i+300]=4\n",
    "        elif (i,j,0) in wall2:\n",
    "            B[j+300][i+300]=5\n",
    "        elif (i,j,0) in tfcoil:\n",
    "            B[j+300][i+300]=6\n",
    "        elif (i,j,0) in target:\n",
    "            B[j+300][i+300]=7\n",
    "        elif (i,j,0) in air_in:\n",
    "            B[j+300][i+300]=0\n",
    "        elif (i,j,0) in n_phage:\n",
    "            B[j+300][i+300]=9\n",
    "\n",
    "            \n",
    "plt.imshow(B)"
   ]
  },
  {
   "cell_type": "markdown",
   "metadata": {},
   "source": [
    "Because want to measure the heat deposition on a small area of the solenoid, we define a new cell call target"
   ]
  },
  {
   "cell_type": "code",
   "execution_count": null,
   "metadata": {},
   "outputs": [],
   "source": [
    "trait_target1 = openmc.XPlane(x0=-R5-e_target)\n",
    "trait_target2 = openmc.YPlane(y0=H_target/2)\n",
    "trait_target3 = openmc.YPlane(y0=-H_target/2)"
   ]
  },
  {
   "cell_type": "raw",
   "metadata": {},
   "source": [
    "Our solenoid is divided in different zones, we build all the zones separately and then add them together"
   ]
  },
  {
   "cell_type": "code",
   "execution_count": null,
   "metadata": {},
   "outputs": [],
   "source": [
    "zone1 = +circle2_1 & -circle2_2 & +trait_1\n",
    "zone2 = +circle1_1 & -circle1_2 & -trait_1 & +trait_2\n",
    "zone3 = -trait_target1 & +sol_out & -trait_target2 & +trait_target3\n",
    "zone4 = +circle1_3 & -circle1_4 & -trait_1 & -trait_3\n",
    "zone5 = -sol_in & +sol_out & -trait_2 & +trait_target2\n",
    "zone6 = -sol_in & +sol_out & -trait_target3 & +trait_3\n",
    "\n",
    "inter_1 = -circle2_1 & +wall2_cylinder & +trait_1\n",
    "inter_2 = +sol_in & +wall2_cylinder & -trait_2 & +trait_3 & -trait_1\n",
    "inter_3 = -circle1_1 & +sol_in & +trait_2 & -trait_1 & +wall2_cylinder\n",
    "inter_4 = -circle1_3 & +sol_in & -trait_3 & -trait_1 & +wall2_cylinder\n",
    "inter = (inter_1 | inter_2 | inter_3 | inter_4) \n",
    "exter = +circle2_2 & +trait_1 | +circle1_2 & +sol_out & -trait_1 & +trait_2 | +circle1_4 & +sol_out & -trait_1 & -trait_3 | -sol_out"
   ]
  },
  {
   "cell_type": "markdown",
   "metadata": {},
   "source": [
    "Next, we associate a geometry with each cell. For everything thing to line up, it was important to make intersections with all borders."
   ]
  },
  {
   "cell_type": "code",
   "execution_count": null,
   "metadata": {},
   "outputs": [],
   "source": [
    "#Associate region\n",
    "plasma.region = -plasma_cylinder & +border_angle_1 & -border_angle_2 & +min_x & -max_x & +min_y & -max_y\n",
    "wall1.region = +plasma_cylinder & -wall1_cylinder & +border_angle_1 & -border_angle_2 & +min_x & -max_x & +min_y & -max_y\n",
    "vessel.region = +wall1_cylinder & -vessel_cylinder & +border_angle_1 & -border_angle_2 & +min_x & -max_x & +min_y & -max_y\n",
    "shield.region = +vessel_cylinder & -shield_cylinder & +border_angle_1 & -border_angle_2 & +min_x & -max_x & +min_y & -max_y\n",
    "wall2.region = +shield_cylinder & -wall2_cylinder & +border_angle_1 & -border_angle_2 & +min_x & -max_x & +min_y & -max_y\n",
    "tfcoil.region = (zone1 | zone2 | zone3 | zone4 | zone5 | zone6) & +border_angle_1 & -border_angle_2 & +min_x & -max_x & +min_y & -max_y\n",
    "target.region = +trait_target1 & -trait_target2 & +trait_target3 & -sol_in & +border_angle_1 & -border_angle_2 & +min_x & -max_x & +min_y & -max_y\n",
    "air_in.region = inter & +border_angle_1 & -border_angle_2 & +min_x & -max_x & +min_y & -max_y\n",
    "n_phage.region = exter & +min_x & -max_x & +min_y & -max_y & +border_angle_1 & -border_angle_2\n"
   ]
  },
  {
   "cell_type": "markdown",
   "metadata": {},
   "source": [
    "We can now fill our cells with materials"
   ]
  },
  {
   "cell_type": "code",
   "execution_count": null,
   "metadata": {},
   "outputs": [],
   "source": [
    "#fill cells\n",
    "plasma.fill = plasma_H\n",
    "wall1.fill = tungsten\n",
    "vessel.fill = ss316\n",
    "shield.fill = B_carbide\n",
    "wall2.fill = ss316\n",
    "tfcoil.fill = incoloy\n",
    "target.fill = incoloy\n",
    "#air_in.fill = air\n",
    "n_phage.fill = tungsten"
   ]
  },
  {
   "cell_type": "markdown",
   "metadata": {},
   "source": [
    "Finally we add our cells to the universe and create the xml file"
   ]
  },
  {
   "cell_type": "code",
   "execution_count": null,
   "metadata": {},
   "outputs": [],
   "source": [
    "#Add to the universe\n",
    "universe = openmc.Universe()\n",
    "universe.add_cell(plasma)\n",
    "universe.add_cell(wall1)\n",
    "universe.add_cell(vessel)\n",
    "universe.add_cell(shield)\n",
    "universe.add_cell(wall2)\n",
    "universe.add_cell(tfcoil)\n",
    "universe.add_cell(target)\n",
    "universe.add_cell(air_in)\n",
    "universe.add_cell(n_phage)\n",
    "\n",
    "#export XML file\n",
    "geom = openmc.Geometry(universe)\n",
    "geom.export_to_xml()\n"
   ]
  },
  {
   "cell_type": "markdown",
   "metadata": {},
   "source": [
    "## Simulation Settings\n",
    "The source must be defined as a fusion source. That's why we build an isotropic source with 14.1 MeV level neutrons. It is different than a fission source so we have to define a fixed source."
   ]
  },
  {
   "cell_type": "code",
   "execution_count": null,
   "metadata": {},
   "outputs": [],
   "source": [
    "#Create the source and XML file\n",
    "point = openmc.stats.Point((0, 0, 0))\n",
    "src = openmc.Source(space=point)\n",
    "src.angle = openmc.stats.Isotropic()\n",
    "src.energy = openmc.stats.Discrete([14.1e6], [1.0])\n",
    "settings = openmc.Settings()\n",
    "settings.run_mode = \"fixed source\""
   ]
  },
  {
   "cell_type": "markdown",
   "metadata": {},
   "source": [
    "With the geometry and materials finished, we now just need to define simulation parameters."
   ]
  },
  {
   "cell_type": "code",
   "execution_count": null,
   "metadata": {},
   "outputs": [],
   "source": [
    "settings.source = src\n",
    "settings.batches = N_batch\n",
    "settings.inactive = 0\n",
    "settings.particles = N_particules\n",
    "settings.export_to_xml()"
   ]
  },
  {
   "cell_type": "markdown",
   "metadata": {},
   "source": [
    "## Geometry plot\n",
    "In order to check if our geometry is valid, we can plot it with an array by using the 'in cell' method. We create an 3d array and calculate each value based on where the array index position puts us in our geometry. This method allows us to plot the geometry even if we don't know it's valid. "
   ]
  },
  {
   "cell_type": "code",
   "execution_count": null,
   "metadata": {},
   "outputs": [],
   "source": [
    "#xy plot\n",
    "B = zeros((400,2*border_x))\n",
    "for i in range (-border_x,border_x,1):\n",
    "    for j in range (-200,200,1):\n",
    "        if (i,j,0) in plasma:\n",
    "            B[j+200][i+border_x]=1\n",
    "        elif (i,j,0) in wall1:\n",
    "            B[j+200][i+border_x]=2\n",
    "        elif (i,j,0) in vessel:\n",
    "            B[j+200][i+border_x]=3\n",
    "        elif (i,j,0) in shield:\n",
    "            B[j+200][i+border_x]=4\n",
    "        elif (i,j,0) in wall2:\n",
    "            B[j+200][i+border_x]=5\n",
    "        elif (i,j,0) in tfcoil:\n",
    "            B[j+200][i+border_x]=6\n",
    "        elif (i,j,0) in target:\n",
    "            B[j+200][i+border_x]=7\n",
    "        elif (i,j,0) in air_in:\n",
    "            B[j+200][i+border_x]=8\n",
    "        elif (i,j,0) in n_phage:\n",
    "            B[j+200][i+border_x]=9\n",
    "#xz plot\n",
    "C = zeros((200,2*border_x))\n",
    "for i in range (-border_x,border_x,1):\n",
    "    for j in range (-100,100,1):\n",
    "        if (i,0,j) in plasma :\n",
    "            C[j+100][i+border_x]=1\n",
    "        elif (i,0,j) in wall1:\n",
    "            C[j+100][i+border_x]=2\n",
    "        elif (i,0,j) in vessel:\n",
    "            C[j+100][i+border_x]=3\n",
    "        elif (i,0,j) in shield:\n",
    "            C[j+100][i+border_x]=4\n",
    "        elif (i,0,j) in wall2:\n",
    "            C[j+100][i+border_x]=5\n",
    "        elif (i,0,j) in tfcoil:\n",
    "            C[j+100][i+border_x]=6\n",
    "        elif (i,0,j) in target:\n",
    "            C[j+100][i+border_x]=7\n",
    "        elif (i,0,j) in air_in:\n",
    "            C[j+100][i+border_x]=8\n",
    "        elif (i,0,j) in n_phage:\n",
    "            C[j+100][i+border_x]=9\n",
    "fig = plt.subplot(121)\n",
    "fig.imshow(B)\n",
    "fig2 = plt.subplot(122)\n",
    "fig2.imshow(C)   "
   ]
  },
  {
   "cell_type": "markdown",
   "metadata": {},
   "source": [
    "## Filters and Tallies\n",
    "The goal of this notebook is to measure heat deposition in specific cells. We will now set up tallies to measure relevant values using our mesh filter.\n",
    "First we create the file"
   ]
  },
  {
   "cell_type": "code",
   "execution_count": null,
   "metadata": {},
   "outputs": [],
   "source": [
    "tallies_file=openmc.Tallies()"
   ]
  },
  {
   "cell_type": "markdown",
   "metadata": {},
   "source": [
    "Then we have to instantiate our 3D size in order to make a mesh"
   ]
  },
  {
   "cell_type": "code",
   "execution_count": null,
   "metadata": {},
   "outputs": [],
   "source": [
    "size_x = int(2*border_x/mesh_size)\n",
    "size_y = int(400/mesh_size)\n",
    "size_z = int(200/mesh_size)"
   ]
  },
  {
   "cell_type": "markdown",
   "metadata": {},
   "source": [
    "We defined our mesh_size in the third code cell. The smaller it is, the more precise in space, but we have to be careful of the uncertainty."
   ]
  },
  {
   "cell_type": "code",
   "execution_count": null,
   "metadata": {},
   "outputs": [],
   "source": [
    "# Instantiate a tally mesh\n",
    "mesh = openmc.Mesh(mesh_id=1)\n",
    "mesh.type = 'regular'\n",
    "mesh.dimension = [size_x,size_y,size_z]\n",
    "mesh.lower_left = [-border_x, -200.0, -100.0]\n",
    "mesh.width = [mesh_size,mesh_size,mesh_size]\n",
    "mesh_filter = openmc.MeshFilter(mesh)"
   ]
  },
  {
   "cell_type": "markdown",
   "metadata": {},
   "source": [
    "We now create a tally to measure the flux and heat deposition"
   ]
  },
  {
   "cell_type": "code",
   "execution_count": null,
   "metadata": {},
   "outputs": [],
   "source": [
    "# Instantiate flux Tally in moderator and fuel\n",
    "tally = openmc.Tally(name='flux')\n",
    "tally.filters = [mesh_filter]\n",
    "tally.scores = ['flux','absorption']\n",
    "tallies_file.append(tally)\n"
   ]
  },
  {
   "cell_type": "markdown",
   "metadata": {},
   "source": [
    "We take the mean heat deposition of the ceels in order to have a macroscopic idea of the values and export all our tallies to an xml"
   ]
  },
  {
   "cell_type": "code",
   "execution_count": null,
   "metadata": {},
   "outputs": [],
   "source": [
    "# Instantiate absorption in all cells except shield\n",
    "cells_abs = openmc.Tally(name='cell_absorption')\n",
    "cells_abs.filters = [openmc.CellFilter([plasma,wall1,vessel,shield,wall2,tfcoil,target,air_in,n_phage])]\n",
    "cells_abs.scores = ['absorption']\n",
    "tallies_file.append(cells_abs)\n",
    "# Export to \"tallies.xml\"\n",
    "tallies_file.export_to_xml()"
   ]
  },
  {
   "cell_type": "markdown",
   "metadata": {},
   "source": [
    "With setup done we can finally run openmc"
   ]
  },
  {
   "cell_type": "code",
   "execution_count": null,
   "metadata": {},
   "outputs": [],
   "source": [
    "#Run\n",
    "openmc.run()"
   ]
  },
  {
   "cell_type": "markdown",
   "metadata": {},
   "source": [
    "## Post Processing\n",
    "We do not know how many batches were needed to satisfy the tally trigger(s), so find the statepoint file(s). This command allow us to find the good statepoint file and load it."
   ]
  },
  {
   "cell_type": "code",
   "execution_count": null,
   "metadata": {},
   "outputs": [],
   "source": [
    "statepoints = glob.glob('statepoint.*.h5')\n",
    "# Load the last statepoint file\n",
    "sp = openmc.StatePoint(statepoints[-1])"
   ]
  },
  {
   "cell_type": "markdown",
   "metadata": {},
   "source": [
    "We get the flux tallies containing the heat deposition of the mesh as well as all other cells."
   ]
  },
  {
   "cell_type": "code",
   "execution_count": null,
   "metadata": {},
   "outputs": [],
   "source": [
    "#Get the flux in all fusion cylinder\n",
    "flux = sp.get_tally(name='flux')\n",
    "flux.get_pandas_dataframe()\n",
    "#Get absorption in the cells\n",
    "absorp = sp.get_tally(name='cell_absorption')\n",
    "heat_deposition = absorp.get_pandas_dataframe()"
   ]
  },
  {
   "cell_type": "markdown",
   "metadata": {},
   "source": [
    "However, we onlly want the specific mesh tallies of heating."
   ]
  },
  {
   "cell_type": "code",
   "execution_count": null,
   "metadata": {},
   "outputs": [],
   "source": [
    "#For ploting\n",
    "flux_a = flux.get_slice(scores=['absorption'])\n",
    "#We have to reshape this array with the mesh we instantiate\n",
    "flux_a.std_dev.shape = (size_x,size_y,size_z)\n",
    "flux_a.mean.shape = (size_x,size_y,size_z)"
   ]
  },
  {
   "cell_type": "markdown",
   "metadata": {},
   "source": [
    "Openmc can gives us the relative error of our data. In the cell below we measure the relative error in the target and print the maximum. Use the result to determine whether or not you need to increase batches and partical numbers. "
   ]
  },
  {
   "cell_type": "code",
   "execution_count": null,
   "metadata": {},
   "outputs": [],
   "source": [
    "# Determine max relative error\n",
    "b=0\n",
    "for i in range (0,size_x-1):\n",
    "    for j in range (0,size_y-1):\n",
    "        for k in range (0,size_z-1):\n",
    "            if (i-size_x,j-size_y,k-size_z) in target:\n",
    "                if flux_a.mean[i][j][k]>0:\n",
    "                    relative_error = (flux_a.std_dev[i][j][k] / flux_a.mean[i][j][k])   \n",
    "                    if relative_error>b:\n",
    "                        b=relative_error\n",
    "print(\"Maximum relative error is\",b)\n"
   ]
  },
  {
   "cell_type": "markdown",
   "metadata": {},
   "source": [
    "## Plot\n",
    "In order to make the plot more visible, we plot proportional to the log of the real value."
   ]
  },
  {
   "cell_type": "code",
   "execution_count": null,
   "metadata": {},
   "outputs": [],
   "source": [
    "#for ploting xy\n",
    "\"For ploting an xy slice of our 3D model, we choose to be center on z axis\"\n",
    "D = zeros((400,2*border_x))\n",
    "for i in range (0,2*border_x-1):\n",
    "    for j in range (0,400-1):\n",
    "        if abs(flux_a.mean[i][j][100]) < 10**-6 :\n",
    "            D[j][i]= 0\n",
    "        elif abs(flux_a.mean[i][j][100])< 10**-4 :\n",
    "            D[j][i]= 1\n",
    "        elif abs(flux_a.mean[i][j][100])< 10**-3 :\n",
    "            D[j][i]= 3\n",
    "        elif abs(flux_a.mean[i][j][100])< 10**-2 : \n",
    "            D[j][i]= 5\n",
    "        elif abs(flux_a.mean[i][j][100])< 10**-1 :\n",
    "            D[j][i]= 7\n",
    "        elif abs(flux_a.mean[i][j][100])< 10**-0 : \n",
    "            D[j][i]= 9\n",
    "        else :\n",
    "            D[j][i]= 20\n",
    "\n",
    "#for ploting xz\n",
    "\"For ploting an xz slice of our 3D model, we choose to be center on y axis\"\n",
    "E = zeros((200,2*border_x))\n",
    "for i in range (0,2*border_x-1):\n",
    "    for j in range (0,200-1):\n",
    "        if abs(flux_a.mean[i][200][j]) < 10**-6 :\n",
    "            E[j][i]= 0\n",
    "        elif abs(flux_a.mean[i][200][j])< 10**-4 :\n",
    "            E[j][i]= 1\n",
    "        elif abs(flux_a.mean[i][200][j])< 10**-3 :\n",
    "            E[j][i]= 3\n",
    "        elif abs(flux_a.mean[i][200][j])< 10**-2 : \n",
    "            E[j][i]= 5\n",
    "        elif abs(flux_a.mean[i][200][j])< 10**-1 :\n",
    "            E[j][i]= 7\n",
    "        elif abs(flux_a.mean[i][200][j])< 10**-0 : \n",
    "            E[j][i]= 9\n",
    "        else :\n",
    "            E[j][i]= 20"
   ]
  },
  {
   "cell_type": "markdown",
   "metadata": {},
   "source": [
    "Lastly, we print the heat deposition of all the cells and the two slices of our 3D model."
   ]
  },
  {
   "cell_type": "code",
   "execution_count": null,
   "metadata": {},
   "outputs": [],
   "source": [
    "print(heat_deposition)\n",
    "\n",
    "fig = plt.subplot(121)\n",
    "fig.imshow(D)\n",
    "fig2 = plt.subplot(122)\n",
    "fig2.imshow(E)\n",
    "plt.savefig(\"heating.pdf\") "
   ]
  }
 ],
 "metadata": {
  "kernelspec": {
   "display_name": "Python 3",
   "language": "python",
   "name": "python3"
  },
  "language_info": {
   "codemirror_mode": {
    "name": "ipython",
    "version": 3
   },
   "file_extension": ".py",
   "mimetype": "text/x-python",
   "name": "python",
   "nbconvert_exporter": "python",
   "pygments_lexer": "ipython3",
   "version": "3.7.3"
  }
 },
 "nbformat": 4,
 "nbformat_minor": 2
}
